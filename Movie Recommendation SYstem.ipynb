{
    "cells": [
        {
            "metadata": {},
            "cell_type": "code",
            "source": "import pandas as pd\nimport numpy as np\nfrom sklearn.feature_extraction.text import CountVectorizer\nfrom sklearn.metrics.pairwise import cosine_similarity\n###### helper functions. Use them when needed #######\ndef get_title_from_index(index):\n\treturn df[df.index == index][\"title\"].values[0]\ndef get_index_from_title(title):\n\treturn df[df.title == title][\"index\"].values[0]\n##################################################",
            "execution_count": 9,
            "outputs": []
        },
        {
            "metadata": {},
            "cell_type": "code",
            "source": "import types\nimport pandas as pd\nfrom botocore.client import Config\nimport ibm_boto3\n\ndef __iter__(self): return 0\n\n# @hidden_cell\n# The following code accesses a file in your IBM Cloud Object Storage. It includes your credentials.\n# You might want to remove those credentials before you share the notebook.\nclient_9935b7b679954be0986033743f819e3c = ibm_boto3.client(service_name='s3',\n    ibm_api_key_id='IkEMgelHP4XfEUrTeDX2tDd1J13UDoVOaI0Ri3W8KUn8',\n    ibm_auth_endpoint=\"https://iam.ng.bluemix.net/oidc/token\",\n    config=Config(signature_version='oauth'),\n    endpoint_url='https://s3-api.us-geo.objectstorage.service.networklayer.com')\n\nbody = client_9935b7b679954be0986033743f819e3c.get_object(Bucket='movierecommendationsystem-donotdelete-pr-eibblodc7vm4zh',Key='movie_dataset.csv')['Body']\n# add missing __iter__ method, so pandas accepts body as file-like object\nif not hasattr(body, \"__iter__\"): body.__iter__ = types.MethodType( __iter__, body )\n\n# If you are reading an Excel file into a pandas DataFrame, replace `read_csv` by `read_excel` in the next statement.\ndf_data_0 = pd.read_csv(body)",
            "execution_count": 10,
            "outputs": []
        },
        {
            "metadata": {},
            "cell_type": "code",
            "source": "##Step 1: Read CSV File\ndf=df_data_0\n# print(df.columns)\n##Step 2: Select Features\nfeatures=[\"keywords\",\"cast\",'genres','director']\n#Step 3: Create a column in DF which combines all selected features\nfor i in features:\n    df[i].fillna('',inplace=True)\ndef combine_features(row):\n    try:\n        return row['keywords']+' '+row['cast']+' '+row['genres']+' '+row['director']\n    except:\n        print(\"Error:\",row)\ndf['combined_features']=df.apply(combine_features,axis=1)\n#print(df['combined_features'].head())\n#Step 4: Create count matrix from this new combined column\ncv = CountVectorizer()\ncount_matrix = cv.fit_transform(df['combined_features'])\n##Step 5: Compute the Cosine Similarity based on the count_matrix\ncosine_sim=cosine_similarity(count_matrix)\nmovie_user_likes = \"Batman v Superman: Dawn of Justice\"\n\n## Step 6: Get index of this movie from its title\nmovie_index=get_index_from_title(movie_user_likes)\nsimilar_movies = list(enumerate(cosine_sim[movie_index]))\nsorted_similar_movies=sorted(similar_movies,key=lambda x:x[1],reverse=True)\n\n## Step 7: Get a list of similar movies in descending order of similarity score\ni=0\nimport win32com.client as winc1\nfor movie in sorted_similar_movies:\n    speak=winc1.Dispatch(\"SAPI.SpVoice\")\n    speak.Speak(get_title_from_index(movie[0]))\n    print(get_title_from_index(movie[0]))\n    i=i+1\n    if i>10:\n        break",
            "execution_count": 8,
            "outputs": [
                {
                    "output_type": "error",
                    "ename": "ModuleNotFoundError",
                    "evalue": "No module named 'win32com'",
                    "traceback": [
                        "\u001b[0;31m---------------------------------------------------------------------------\u001b[0m",
                        "\u001b[0;31mModuleNotFoundError\u001b[0m                       Traceback (most recent call last)",
                        "\u001b[0;32m<ipython-input-8-38c81dfe23ef>\u001b[0m in \u001b[0;36m<module>\u001b[0;34m\u001b[0m\n\u001b[1;32m     28\u001b[0m \u001b[0;31m## Step 7: Get a list of similar movies in descending order of similarity score\u001b[0m\u001b[0;34m\u001b[0m\u001b[0;34m\u001b[0m\u001b[0;34m\u001b[0m\u001b[0m\n\u001b[1;32m     29\u001b[0m \u001b[0mi\u001b[0m\u001b[0;34m=\u001b[0m\u001b[0;36m0\u001b[0m\u001b[0;34m\u001b[0m\u001b[0;34m\u001b[0m\u001b[0m\n\u001b[0;32m---> 30\u001b[0;31m \u001b[0;32mimport\u001b[0m \u001b[0mwin32com\u001b[0m\u001b[0;34m.\u001b[0m\u001b[0mclient\u001b[0m \u001b[0;32mas\u001b[0m \u001b[0mwinc1\u001b[0m\u001b[0;34m\u001b[0m\u001b[0;34m\u001b[0m\u001b[0m\n\u001b[0m\u001b[1;32m     31\u001b[0m \u001b[0;32mfor\u001b[0m \u001b[0mmovie\u001b[0m \u001b[0;32min\u001b[0m \u001b[0msorted_similar_movies\u001b[0m\u001b[0;34m:\u001b[0m\u001b[0;34m\u001b[0m\u001b[0;34m\u001b[0m\u001b[0m\n\u001b[1;32m     32\u001b[0m     \u001b[0mspeak\u001b[0m\u001b[0;34m=\u001b[0m\u001b[0mwinc1\u001b[0m\u001b[0;34m.\u001b[0m\u001b[0mDispatch\u001b[0m\u001b[0;34m(\u001b[0m\u001b[0;34m\"SAPI.SpVoice\"\u001b[0m\u001b[0;34m)\u001b[0m\u001b[0;34m\u001b[0m\u001b[0;34m\u001b[0m\u001b[0m\n",
                        "\u001b[0;31mModuleNotFoundError\u001b[0m: No module named 'win32com'"
                    ]
                }
            ]
        },
        {
            "metadata": {
                "slideshow": {
                    "slide_type": "-"
                }
            },
            "cell_type": "code",
            "source": "",
            "execution_count": null,
            "outputs": []
        },
        {
            "metadata": {},
            "cell_type": "code",
            "source": "",
            "execution_count": null,
            "outputs": []
        }
    ],
    "metadata": {
        "kernelspec": {
            "name": "python3",
            "display_name": "Python 3.6",
            "language": "python"
        },
        "language_info": {
            "name": "python",
            "version": "3.6.9",
            "mimetype": "text/x-python",
            "codemirror_mode": {
                "name": "ipython",
                "version": 3
            },
            "pygments_lexer": "ipython3",
            "nbconvert_exporter": "python",
            "file_extension": ".py"
        },
        "celltoolbar": "Slideshow"
    },
    "nbformat": 4,
    "nbformat_minor": 1
}