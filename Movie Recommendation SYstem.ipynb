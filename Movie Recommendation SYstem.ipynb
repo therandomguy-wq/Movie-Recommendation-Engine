{
    "cells": [
        {
            "cell_type": "code",
            "execution_count": 9,
            "metadata": {},
            "outputs": [],
            "source": "import pandas as pd\nimport numpy as np\nfrom sklearn.feature_extraction.text import CountVectorizer\nfrom sklearn.metrics.pairwise import cosine_similarity\n###### helper functions. Use them when needed #######\ndef get_title_from_index(index):\n\treturn df[df.index == index][\"title\"].values[0]\ndef get_index_from_title(title):\n\treturn df[df.title == title][\"index\"].values[0]\n##################################################"
        },
        {
            "cell_type": "code",
            "execution_count": 10,
            "metadata": {},
            "outputs": [],
            "source": "# The code was removed by Watson Studio for sharing."
        },
        {
            "cell_type": "code",
            "execution_count": 11,
            "metadata": {},
            "outputs": [],
            "source": "##Step 1: Read CSV File\ndf=df_data_0\n# print(df.columns)\n##Step 2: Select Features\nfeatures=[\"keywords\",\"cast\",'genres','director']\n#Step 3: Create a column in DF which combines all selected features\nfor i in features:\n    df[i].fillna('',inplace=True)\ndef combine_features(row):\n    try:\n        return row['keywords']+' '+row['cast']+' '+row['genres']+' '+row['director']\n    except:\n        print(\"Error:\",row)\ndf['combined_features']=df.apply(combine_features,axis=1)\n#print(df['combined_features'].head())\n#Step 4: Create count matrix from this new combined column\ncv = CountVectorizer()\ncount_matrix = cv.fit_transform(df['combined_features'])\n##Step 5: Compute the Cosine Similarity based on the count_matrix\ncosine_sim=cosine_similarity(count_matrix)\nmovie_user_likes = \"Batman v Superman: Dawn of Justice\"\n\n## Step 6: Get index of this movie from its title\nmovie_index=get_index_from_title(movie_user_likes)\nsimilar_movies = list(enumerate(cosine_sim[movie_index]))\nsorted_similar_movies=sorted(similar_movies,key=lambda x:x[1],reverse=True)\n\n## Step 7: Get a list of similar movies in descending order of similarity score\ni=0\nimport win32com.client as winc1\nfor movie in sorted_similar_movies:\n    speak=winc1.Dispatch(\"SAPI.SpVoice\")\n    speak.Speak(get_title_from_index(movie[0]))\n    print(get_title_from_index(movie[0]))\n    i=i+1\n    if i>10:\n        break"
        },
        {
            "cell_type": "code",
            "execution_count": null,
            "metadata": {
                "slideshow": {
                    "slide_type": "-"
                }
            },
            "outputs": [],
            "source": ""
        },
        {
            "cell_type": "code",
            "execution_count": null,
            "metadata": {},
            "outputs": [],
            "source": ""
        }
    ],
    "metadata": {
        "celltoolbar": "Slideshow",
        "kernelspec": {
            "display_name": "Python 3.6",
            "language": "python",
            "name": "python3"
        },
        "language_info": {
            "codemirror_mode": {
                "name": "ipython",
                "version": 3
            },
            "file_extension": ".py",
            "mimetype": "text/x-python",
            "name": "python",
            "nbconvert_exporter": "python",
            "pygments_lexer": "ipython3",
            "version": "3.6.9"
        }
    },
    "nbformat": 4,
    "nbformat_minor": 1
}