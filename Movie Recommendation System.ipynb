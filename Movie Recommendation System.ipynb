{
  "nbformat": 4,
  "nbformat_minor": 0,
  "metadata": {
    "celltoolbar": "Slideshow",
    "kernelspec": {
      "display_name": "Python 3.6",
      "language": "python",
      "name": "python3"
    },
    "language_info": {
      "codemirror_mode": {
        "name": "ipython",
        "version": 3
      },
      "file_extension": ".py",
      "mimetype": "text/x-python",
      "name": "python",
      "nbconvert_exporter": "python",
      "pygments_lexer": "ipython3",
      "version": "3.6.9"
    },
    "colab": {
      "name": "Movie Recommendation SYstem.ipynb",
      "provenance": []
    }
  },
  "cells": [
    {
      "cell_type": "markdown",
      "metadata": {
        "id": "sMT8JOW9itfm",
        "colab_type": "text"
      },
      "source": [
        "# Importing the Required Libraries"
      ]
    },
    {
      "cell_type": "code",
      "metadata": {
        "id": "H93WBtxaioPd",
        "colab_type": "code",
        "colab": {}
      },
      "source": [
        "import pandas as pd\t\t\t\t\t# For standard Operations\n",
        "import numpy as np          # For standard Operations\n",
        "from sklearn.feature_extraction.text import CountVectorizer               # Converting the words into Vectors for mathematical Formulation\n",
        "from sklearn.metrics.pairwise import cosine_similarity                    # Similarity Algorithm"
      ],
      "execution_count": null,
      "outputs": []
    },
    {
      "cell_type": "markdown",
      "metadata": {
        "id": "pykZh0cimNyI",
        "colab_type": "text"
      },
      "source": [
        "### Let us define some helper function, which we will be using in order to get the index from the title of the movie and getting the title of the movie from the index"
      ]
    },
    {
      "cell_type": "code",
      "metadata": {
        "id": "QZC7_Qe4jKAb",
        "colab_type": "code",
        "colab": {}
      },
      "source": [
        "###### Defining the Helper functions, so that we can use them when needed #######\n",
        "def get_title_from_index(index):\n",
        "\treturn df[df.index == index][\"title\"].values[0]\n",
        "def get_index_from_title(title):\n",
        "\treturn df[df.title == title][\"index\"].values[0]\n",
        "##################################################"
      ],
      "execution_count": null,
      "outputs": []
    },
    {
      "cell_type": "markdown",
      "metadata": {
        "id": "YDBYTsuAlayd",
        "colab_type": "text"
      },
      "source": [
        "## The pathway we would be following for the project would be :\n",
        "1. Reading the CSV File\n",
        "2. Selecting the features due to which the recommendation of the movies should be done.\n",
        "3. Creating a new DataFrame, which would contain only those columns which would contain our features\n",
        "4. Using the CountVectorizer for the Mathematical Stuffs\n",
        "5. Applying the Cosine SImilarity Algorithm for the Similarity part.\n",
        "6. Getting the Index of the movie which the user has recently liked\n",
        "7. Recommending them top 10 similar movies"
      ]
    },
    {
      "cell_type": "code",
      "metadata": {
        "id": "1TI1PNfMioPm",
        "colab_type": "code",
        "colab": {}
      },
      "source": [
        "##Step 1: Read CSV File\n",
        "df=pd.read_csv('Your File path')\n",
        "print(df.columns)"
      ],
      "execution_count": null,
      "outputs": []
    },
    {
      "cell_type": "code",
      "metadata": {
        "id": "Iipk77Y4ioPp",
        "colab_type": "code",
        "colab": {}
      },
      "source": [
        "##Step 2: Select Features\n",
        "features=[\"keywords\",\"cast\",'genres','director']"
      ],
      "execution_count": null,
      "outputs": []
    },
    {
      "cell_type": "code",
      "metadata": {
        "id": "c3VVu1tfioPs",
        "colab_type": "code",
        "colab": {}
      },
      "source": [
        "#Step 3: Create a column in DF which combines all selected features\n",
        "for i in features:\n",
        "    df[i].fillna('',inplace=True)\n",
        "def combine_features(row):\n",
        "    try:\n",
        "        return row['keywords']+' '+row['cast']+' '+row['genres']+' '+row['director']\n",
        "    except:\n",
        "        print(\"Error:\",row)\n",
        "df['combined_features']=df.apply(combine_features,axis=1)\n",
        "print(df['combined_features'].head())"
      ],
      "execution_count": null,
      "outputs": []
    },
    {
      "cell_type": "markdown",
      "metadata": {
        "id": "ANqef0Sfmej2",
        "colab_type": "text"
      },
      "source": [
        "### In order to know more about the CountVectorizer, you can refer to the sklearn document <a href = 'https://scikit-learn.org/stable/modules/generated/sklearn.feature_extraction.text.CountVectorizer.html'>here</a>"
      ]
    },
    {
      "cell_type": "code",
      "metadata": {
        "id": "SFWmkKIHjeYi",
        "colab_type": "code",
        "colab": {}
      },
      "source": [
        "#Step 4: Create count matrix from this new combined column\n",
        "cv = CountVectorizer()\n",
        "count_matrix = cv.fit_transform(df['combined_features'])"
      ],
      "execution_count": null,
      "outputs": []
    },
    {
      "cell_type": "markdown",
      "metadata": {
        "id": "JkEtF75AmuZz",
        "colab_type": "text"
      },
      "source": [
        "### In order to know more about the Cosine SImilarity Algorithm, you can refer to the sklearn document <a href = 'https://scikit-learn.org/stable/modules/generated/sklearn.metrics.pairwise.cosine_similarity.html'>here</a>"
      ]
    },
    {
      "cell_type": "code",
      "metadata": {
        "id": "dJSZ1Y5pjg0x",
        "colab_type": "code",
        "colab": {}
      },
      "source": [
        "#Step 5: Compute the Cosine Similarity based on the count_matrix\n",
        "cosine_sim=cosine_similarity(count_matrix)\n",
        "movie_user_likes = \"Batman v Superman: Dawn of Justice\""
      ],
      "execution_count": null,
      "outputs": []
    },
    {
      "cell_type": "code",
      "metadata": {
        "id": "GGh9jwhYjjbt",
        "colab_type": "code",
        "colab": {}
      },
      "source": [
        "# Step 6: Get index of this movie from its title\n",
        "movie_index=get_index_from_title(movie_user_likes)\n",
        "similar_movies = list(enumerate(cosine_sim[movie_index]))\n",
        "sorted_similar_movies=sorted(similar_movies,key=lambda x:x[1],reverse=True)"
      ],
      "execution_count": null,
      "outputs": []
    },
    {
      "cell_type": "code",
      "metadata": {
        "id": "PCG3mH1Hjmt0",
        "colab_type": "code",
        "colab": {}
      },
      "source": [
        "# Step 7: Get a list of similar movies in descending order of similarity score\n",
        "i=0\n",
        "import win32com.client as winc1\n",
        "for movie in sorted_similar_movies:\n",
        "    speak=winc1.Dispatch(\"SAPI.SpVoice\")\n",
        "    speak.Speak(get_title_from_index(movie[0]))\n",
        "    print(get_title_from_index(movie[0]))\n",
        "    i=i+1\n",
        "    if i>10:\n",
        "        break"
      ],
      "execution_count": null,
      "outputs": []
    }
  ]
}